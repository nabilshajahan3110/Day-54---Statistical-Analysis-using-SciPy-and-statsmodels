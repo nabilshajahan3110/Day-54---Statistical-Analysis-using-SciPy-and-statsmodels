{
 "cells": [
  {
   "cell_type": "markdown",
   "id": "c293bf28-0855-41b1-a18b-504326502997",
   "metadata": {},
   "source": [
    "## Statistical analysis using SciPy and statsmodels"
   ]
  },
  {
   "cell_type": "code",
   "execution_count": 31,
   "id": "e34711ba-23ae-416e-9188-c41864e9e780",
   "metadata": {},
   "outputs": [],
   "source": [
    "import warnings\n",
    "import sys\n",
    "if not sys.warnoptions:\n",
    "    warnings.simplefilter(\"ignore\")"
   ]
  },
  {
   "cell_type": "markdown",
   "id": "9f284ba5-50dc-4d44-b26c-2fdf8c030cbf",
   "metadata": {},
   "source": [
    "### **Step 1: Setup and Dataset Loading**"
   ]
  },
  {
   "cell_type": "code",
   "execution_count": 33,
   "id": "696cd5f2-5376-4199-bb73-b3854f022127",
   "metadata": {},
   "outputs": [
    {
     "name": "stdout",
     "output_type": "stream",
     "text": [
      "   total_bill   tip     sex smoker  day    time  size\n",
      "0       16.99  1.01  Female     No  Sun  Dinner     2\n",
      "1       10.34  1.66    Male     No  Sun  Dinner     3\n",
      "2       21.01  3.50    Male     No  Sun  Dinner     3\n",
      "3       23.68  3.31    Male     No  Sun  Dinner     2\n",
      "4       24.59  3.61  Female     No  Sun  Dinner     4\n"
     ]
    }
   ],
   "source": [
    "import seaborn as sns\n",
    "import numpy as np\n",
    "from scipy import stats\n",
    "import statsmodels.api as sm\n",
    "import matplotlib.pyplot as plt\n",
    "\n",
    "# Load the tips dataset\n",
    "tips = sns.load_dataset('tips')\n",
    "\n",
    "# Display the first few rows of the dataset\n",
    "print(tips.head())"
   ]
  },
  {
   "cell_type": "markdown",
   "id": "19c6eff1-854c-4b66-91fd-9f8e1959d12d",
   "metadata": {},
   "source": [
    "### **Step 2: Descriptive Statistics**"
   ]
  },
  {
   "cell_type": "code",
   "execution_count": 35,
   "id": "53f794d6-4583-4658-90aa-653cfce97ce0",
   "metadata": {},
   "outputs": [
    {
     "name": "stdout",
     "output_type": "stream",
     "text": [
      "Statistics for total_bill:\n",
      "Mean: 19.78594262295082\n",
      "Median: 17.795\n",
      "Variance: 79.25293861397826\n",
      "Standard Deviation: 8.902411954856856\n",
      "Skewness: 1.1262346334818638\n",
      "Kurtosis: 1.1691681323851366\n",
      "\n",
      "Statistics for tip:\n",
      "Mean: 2.99827868852459\n",
      "Median: 2.9\n",
      "Variance: 1.9144546380624725\n",
      "Standard Deviation: 1.3836381890011826\n",
      "Skewness: 1.4564266884221506\n",
      "Kurtosis: 3.5495519893455114\n",
      "\n"
     ]
    }
   ],
   "source": [
    "# Descriptive statistics for 'total_bill' and 'tip'\n",
    "columns = ['total_bill', 'tip']\n",
    "\n",
    "for col in columns:\n",
    "    print(f\"Statistics for {col}:\")\n",
    "    print(f\"Mean: {tips[col].mean()}\")\n",
    "    print(f\"Median: {tips[col].median()}\")\n",
    "    print(f\"Variance: {tips[col].var()}\")\n",
    "    print(f\"Standard Deviation: {tips[col].std()}\")\n",
    "    print(f\"Skewness: {stats.skew(tips[col])}\")\n",
    "    print(f\"Kurtosis: {stats.kurtosis(tips[col])}\\n\")"
   ]
  },
  {
   "cell_type": "markdown",
   "id": "10d644d7-1477-4e2e-9cfb-0b38c32038e3",
   "metadata": {},
   "source": [
    "### **Step 3: Hypothesis Testing**"
   ]
  },
  {
   "cell_type": "markdown",
   "id": "78b50be3-9851-4146-814f-78c931b21500",
   "metadata": {},
   "source": [
    "#### **3.1 T-Test: Smokers vs. Non-Smokers**"
   ]
  },
  {
   "cell_type": "code",
   "execution_count": 37,
   "id": "f74a8ca5-bcf6-40e8-a455-eb73eba4c4a8",
   "metadata": {},
   "outputs": [
    {
     "name": "stdout",
     "output_type": "stream",
     "text": [
      "T-Statistic: 0.09222805186888201, P-Value: 0.9265931522244976\n"
     ]
    }
   ],
   "source": [
    "# Separate tips for smokers and non-smokers\n",
    "smokers = tips[tips['smoker'] == 'Yes']['tip']\n",
    "non_smokers = tips[tips['smoker'] == 'No']['tip']\n",
    "\n",
    "# Perform independent t-test\n",
    "t_stat, p_val = stats.ttest_ind(smokers, non_smokers)\n",
    "print(f\"T-Statistic: {t_stat}, P-Value: {p_val}\")"
   ]
  },
  {
   "cell_type": "markdown",
   "id": "60cc365a-2f17-453e-8748-a8f649627517",
   "metadata": {},
   "source": [
    "#### **3.2 Correlation Analysis**"
   ]
  },
  {
   "cell_type": "code",
   "execution_count": 39,
   "id": "6069c286-ed51-4e75-91f8-7880ac0a2f3a",
   "metadata": {},
   "outputs": [
    {
     "name": "stdout",
     "output_type": "stream",
     "text": [
      "Correlation Coefficient: 0.6757341092113645, P-Value: 6.692470646863819e-34\n"
     ]
    }
   ],
   "source": [
    "# Pearson correlation between total_bill and tip\n",
    "corr, p_val = stats.pearsonr(tips['total_bill'], tips['tip'])\n",
    "print(f\"Correlation Coefficient: {corr}, P-Value: {p_val}\")"
   ]
  },
  {
   "cell_type": "markdown",
   "id": "73d0313b-2ee3-4278-a16c-cb4723c5f77c",
   "metadata": {},
   "source": [
    "#### **3.3 ANOVA Test**"
   ]
  },
  {
   "cell_type": "code",
   "execution_count": 41,
   "id": "2e63dee6-a8ee-4d5a-9e6d-08ea048e024a",
   "metadata": {},
   "outputs": [
    {
     "name": "stdout",
     "output_type": "stream",
     "text": [
      "F-Statistic: 2.7674794432863363, P-Value: 0.04245383328952047\n"
     ]
    }
   ],
   "source": [
    "# Perform ANOVA for total_bill across days\n",
    "anova_result = stats.f_oneway(\n",
    "    tips[tips['day'] == 'Thur']['total_bill'],\n",
    "    tips[tips['day'] == 'Fri']['total_bill'],\n",
    "    tips[tips['day'] == 'Sat']['total_bill'],\n",
    "    tips[tips['day'] == 'Sun']['total_bill']\n",
    ")\n",
    "print(f\"F-Statistic: {anova_result.statistic}, P-Value: {anova_result.pvalue}\")"
   ]
  },
  {
   "cell_type": "markdown",
   "id": "b22c5682-9111-4bee-afd0-741fd52957fa",
   "metadata": {},
   "source": [
    "### **Step 4: Regression Analysis**"
   ]
  },
  {
   "cell_type": "code",
   "execution_count": 43,
   "id": "6900603d-19ad-493b-a51a-98e4a75d8290",
   "metadata": {},
   "outputs": [
    {
     "name": "stdout",
     "output_type": "stream",
     "text": [
      "                            OLS Regression Results                            \n",
      "==============================================================================\n",
      "Dep. Variable:                    tip   R-squared:                       0.457\n",
      "Model:                            OLS   Adj. R-squared:                  0.454\n",
      "Method:                 Least Squares   F-statistic:                     203.4\n",
      "Date:                Sat, 28 Dec 2024   Prob (F-statistic):           6.69e-34\n",
      "Time:                        17:24:40   Log-Likelihood:                -350.54\n",
      "No. Observations:                 244   AIC:                             705.1\n",
      "Df Residuals:                     242   BIC:                             712.1\n",
      "Df Model:                           1                                         \n",
      "Covariance Type:            nonrobust                                         \n",
      "==============================================================================\n",
      "                 coef    std err          t      P>|t|      [0.025      0.975]\n",
      "------------------------------------------------------------------------------\n",
      "const          0.9203      0.160      5.761      0.000       0.606       1.235\n",
      "total_bill     0.1050      0.007     14.260      0.000       0.091       0.120\n",
      "==============================================================================\n",
      "Omnibus:                       20.185   Durbin-Watson:                   2.151\n",
      "Prob(Omnibus):                  0.000   Jarque-Bera (JB):               37.750\n",
      "Skew:                           0.443   Prob(JB):                     6.35e-09\n",
      "Kurtosis:                       4.711   Cond. No.                         53.0\n",
      "==============================================================================\n",
      "\n",
      "Notes:\n",
      "[1] Standard Errors assume that the covariance matrix of the errors is correctly specified.\n"
     ]
    }
   ],
   "source": [
    "# Prepare data for regression\n",
    "X = tips['total_bill']\n",
    "y = tips['tip']\n",
    "\n",
    "# Add a constant for the intercept\n",
    "X = sm.add_constant(X)\n",
    "\n",
    "# Fit the OLS model\n",
    "model = sm.OLS(y, X).fit()\n",
    "\n",
    "# Print the model summary\n",
    "print(model.summary())"
   ]
  },
  {
   "cell_type": "markdown",
   "id": "990f81ee-b8dd-4834-8ae1-831a76dbcc51",
   "metadata": {},
   "source": [
    "### **Step 5: Distribution Fitting**"
   ]
  },
  {
   "cell_type": "code",
   "execution_count": 45,
   "id": "e2357cad-ee08-478d-ac05-6541b90b2543",
   "metadata": {},
   "outputs": [
    {
     "data": {
      "image/png": "[encoded data removed]",
      "text/plain": [
       "<Figure size 640x480 with 1 Axes>"
      ]
     },
     "metadata": {},
     "output_type": "display_data"
    },
    {
     "name": "stdout",
     "output_type": "stream",
     "text": [
      "Kolmogorov-Smirnov Test Statistic: 0.1188459508899175, P-Value: 0.0018463244831193226\n"
     ]
    }
   ],
   "source": [
    "# Fit total_bill to a normal distribution\n",
    "mean, std = stats.norm.fit(tips['total_bill'])\n",
    "\n",
    "# Plot histogram and PDF\n",
    "plt.hist(tips['total_bill'], bins=20, density=True, alpha=0.6, color='g')\n",
    "xmin, xmax = plt.xlim()\n",
    "x = np.linspace(xmin, xmax, 100)\n",
    "p = stats.norm.pdf(x, mean, std)\n",
    "plt.plot(x, p, 'k', linewidth=2)\n",
    "plt.title(\"Fit to Normal Distribution\")\n",
    "plt.show()\n",
    "\n",
    "# Perform goodness-of-fit test\n",
    "stat, p_val = stats.kstest(tips['total_bill'], 'norm', args=(mean, std))\n",
    "print(f\"Kolmogorov-Smirnov Test Statistic: {stat}, P-Value: {p_val}\")"
   ]
  },
  {
   "cell_type": "markdown",
   "id": "8d3bbe9a-cee2-4eb3-a7ab-02e9769eed12",
   "metadata": {},
   "source": [
    "### **Interpreting Results**\n",
    "\n",
    "1. **Descriptive Statistics:** Understand the data's distribution and shape.\n",
    "2. **Hypothesis Testing:**\n",
    "\n",
    "    a. **T-Test:** Determine if smoking affects tipping.\n",
    "    b. **Correlation:** Evaluate the strength and direction of the relationship between total bill and tip.\n",
    "    c. **ANOVA:** Check if the day of the week impacts spending.\n",
    "\n",
    "3. **Regression Analysis:** Assess the relationship between total bill and tip, including model significance.\n",
    "4. **Distribution Fitting:** Evaluate if total_bill follows a normal distribution."
   ]
  }
 ],
 "metadata": {
  "kernelspec": {
   "display_name": "Python 3 (ipykernel)",
   "language": "python",
   "name": "python3"
  },
  "language_info": {
   "codemirror_mode": {
    "name": "ipython",
    "version": 3
   },
   "file_extension": ".py",
   "mimetype": "text/x-python",
   "name": "python",
   "nbconvert_exporter": "python",
   "pygments_lexer": "ipython3",
   "version": "3.12.4"
  }
 },
 "nbformat": 4,
 "nbformat_minor": 5
}
